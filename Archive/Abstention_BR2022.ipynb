{
 "cells": [
  {
   "cell_type": "code",
   "execution_count": 10,
   "id": "face95b0",
   "metadata": {},
   "outputs": [],
   "source": [
    "import csv\n",
    "import numpy as np\n",
    "import matplotlib.pyplot as plt"
   ]
  },
  {
   "cell_type": "code",
   "execution_count": 11,
   "id": "fcb25b56",
   "metadata": {
    "scrolled": true
   },
   "outputs": [
    {
     "name": "stdout",
     "output_type": "stream",
     "text": [
      "sg_uf pct_eleitor_abstencao qt_eleitor_abstencao\n",
      "AC 0.224197147 131925\n",
      "AL 0.223740742 520344\n",
      "AM 0.201183043 532682\n",
      "AP 0.19502367 107397\n",
      "BA 0.213323741 2408751\n",
      "CE 0.174492312 1190155\n",
      "DF 0.175668223 387005\n",
      "ES 0.207576503 606436\n",
      "GO 0.217173741 1057713\n",
      "MA 0.2219005 1119044\n",
      "MG 0.222752376 3628830\n",
      "MS 0.22077375 440777\n",
      "MT 0.233762747 577257\n",
      "PA 0.212122134 1290193\n",
      "PB 0.172911591 534588\n",
      "PE 0.182002873 1277314\n",
      "PI 0.176788108 455019\n",
      "PR 0.194846355 1651446\n",
      "RJ 0.227417766 2917155\n",
      "RN 0.18153838 463781\n",
      "RO 0.24638603 303298\n",
      "RR 0.16704893 61180\n",
      "RS 0.197787645 1699682\n",
      "SC 0.184503479 1012861\n",
      "SE 0.18344169 306678\n",
      "SP 0.216184341 7494634\n",
      "TO 0.185369693 202795\n",
      "ZZ 0.516678191 360165\n"
     ]
    }
   ],
   "source": [
    "data = csv.reader(open('data_elections/quantitativo_comp_abst-uf_2022_1.csv', newline=''), delimiter=',', quotechar='|')\n",
    "for row in data:\n",
    "    print(row[3], row[8], row[6])"
   ]
  },
  {
   "cell_type": "code",
   "execution_count": 12,
   "id": "42554006",
   "metadata": {},
   "outputs": [
    {
     "name": "stdout",
     "output_type": "stream",
     "text": [
      "[['AC', 0.224197147, 131925], ['AL', 0.223740742, 520344], ['AM', 0.201183043, 532682], ['AP', 0.19502367, 107397], ['BA', 0.213323741, 2408751], ['CE', 0.174492312, 1190155], ['DF', 0.175668223, 387005], ['ES', 0.207576503, 606436], ['GO', 0.217173741, 1057713], ['MA', 0.2219005, 1119044], ['MG', 0.222752376, 3628830], ['MS', 0.22077375, 440777], ['MT', 0.233762747, 577257], ['PA', 0.212122134, 1290193], ['PB', 0.172911591, 534588], ['PE', 0.182002873, 1277314], ['PI', 0.176788108, 455019], ['PR', 0.194846355, 1651446], ['RJ', 0.227417766, 2917155], ['RN', 0.18153838, 463781], ['RO', 0.24638603, 303298], ['RR', 0.16704893, 61180], ['RS', 0.197787645, 1699682], ['SC', 0.184503479, 1012861], ['SE', 0.18344169, 306678], ['SP', 0.216184341, 7494634], ['TO', 0.185369693, 202795], ['ZZ', 0.516678191, 360165]]\n"
     ]
    }
   ],
   "source": [
    "data = csv.reader(open('data_elections/quantitativo_comp_abst-uf_2022_1.csv', newline=''), delimiter=',', quotechar='|')\n",
    "dataarr = []\n",
    "skip = True\n",
    "for row in data:\n",
    "    if skip:\n",
    "        skip = False\n",
    "        continue\n",
    "    dataarr.append([row[3], float(row[8]), int(row[6])])\n",
    "print(dataarr)"
   ]
  },
  {
   "cell_type": "code",
   "execution_count": 13,
   "id": "8f4e6991",
   "metadata": {},
   "outputs": [
    {
     "data": {
      "image/png": "[encoded data removed]",
      "text/plain": [
       "<Figure size 640x480 with 1 Axes>"
      ]
     },
     "metadata": {},
     "output_type": "display_data"
    }
   ],
   "source": [
    "bars = []\n",
    "height = []\n",
    "xpos = []\n",
    "xposw = []\n",
    "xpost = []\n",
    "width = []\n",
    "\n",
    "for i in range(len(dataarr)):\n",
    "    bars.append(dataarr[i][0])\n",
    "    height.append(dataarr[i][1]*1000)\n",
    "    width.append(dataarr[i][2]/10000)\n",
    "    xpos.append(3*i)\n",
    "    xposw.append(3*i+1)\n",
    "    xpost.append(3*i+0.5)\n",
    "\n",
    "plt.bar(xpos, height, label='Percentage')\n",
    "plt.bar(xposw, width, label='Total')\n",
    "plt.xticks(xpost, bars, rotation=90)\n",
    "plt.legend()\n",
    "\n",
    "plt.show()"
   ]
  },
  {
   "cell_type": "code",
   "execution_count": 14,
   "id": "9f23d4c3",
   "metadata": {},
   "outputs": [],
   "source": [
    "datacity = csv.reader(open('data_elections/evolucao_comp_abst-município_2022_1.csv', newline='', encoding=\"utf-8\"), delimiter=',', quotechar='|')\n",
    "datacityarr = []\n",
    "skip = True\n",
    "for row in datacity:\n",
    "    if skip:\n",
    "        skip = False\n",
    "        continue\n",
    "    datacityarr.append([row[1], float(row[6]), int(row[5])])\n",
    "#print(datacityarr)"
   ]
  },
  {
   "cell_type": "code",
   "execution_count": 15,
   "id": "f047070d",
   "metadata": {},
   "outputs": [
    {
     "data": {
      "text/plain": [
       "'\"barscity = []\\nheightcity = []\\nxposcity = []\\nxposwcity = []\\nxpostcity = []\\nwidthcity = []\\n\\nfor i in range(len(datacityarr)):\\n    barscity.append(datacityarr[i][0])\\n    heightcity.append(datacityarr[i][1]*100000)\\n    widthcity.append(datacityarr[i][2]/10000)\\n    xposcity.append(3*i)\\n    xposwcity.append(3*i+1)\\n    xpostcity.append(3*i+0.5)\\n\\nplt.bar(xposcity, heightcity, label=\\'Percentage\\')\\nplt.bar(xposwcity, widthcity, label=\\'Total\\')\\nplt.xticks(xpostcity, barscity, rotation=90)\\nplt.legend()\\n\\nplt.show()'"
      ]
     },
     "execution_count": 15,
     "metadata": {},
     "output_type": "execute_result"
    }
   ],
   "source": [
    "\"\"\"\"barscity = []\n",
    "heightcity = []\n",
    "xposcity = []\n",
    "xposwcity = []\n",
    "xpostcity = []\n",
    "widthcity = []\n",
    "\n",
    "for i in range(len(datacityarr)):\n",
    "    barscity.append(datacityarr[i][0])\n",
    "    heightcity.append(datacityarr[i][1]*100000)\n",
    "    widthcity.append(datacityarr[i][2]/10000)\n",
    "    xposcity.append(3*i)\n",
    "    xposwcity.append(3*i+1)\n",
    "    xpostcity.append(3*i+0.5)\n",
    "\n",
    "plt.bar(xposcity, heightcity, label='Percentage')\n",
    "plt.bar(xposwcity, widthcity, label='Total')\n",
    "plt.xticks(xpostcity, barscity, rotation=90)\n",
    "plt.legend()\n",
    "\n",
    "plt.show()\"\"\""
   ]
  },
  {
   "cell_type": "code",
   "execution_count": null,
   "id": "adb98ae0",
   "metadata": {},
   "outputs": [],
   "source": []
  }
 ],
 "metadata": {
  "kernelspec": {
   "display_name": "Python 3 (ipykernel)",
   "language": "python",
   "name": "python3"
  },
  "language_info": {
   "codemirror_mode": {
    "name": "ipython",
    "version": 3
   },
   "file_extension": ".py",
   "mimetype": "text/x-python",
   "name": "python",
   "nbconvert_exporter": "python",
   "pygments_lexer": "ipython3",
   "version": "3.9.15"
  }
 },
 "nbformat": 4,
 "nbformat_minor": 5
}
