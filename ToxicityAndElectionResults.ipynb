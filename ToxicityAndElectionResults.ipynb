{
 "cells": [
  {
   "cell_type": "markdown",
   "id": "17c6d0da",
   "metadata": {},
   "source": [
    "# Imports"
   ]
  },
  {
   "cell_type": "code",
   "execution_count": 11,
   "id": "f0f8870e",
   "metadata": {},
   "outputs": [],
   "source": [
    "import csv\n",
    "import json\n",
    "import numpy as np\n",
    "import matplotlib.pyplot as plt"
   ]
  },
  {
   "cell_type": "markdown",
   "id": "d58745fa",
   "metadata": {},
   "source": [
    "# Toxicity scores per State"
   ]
  },
  {
   "cell_type": "code",
   "execution_count": 20,
   "id": "034e6427",
   "metadata": {},
   "outputs": [],
   "source": [
    "toxicities = '{\"AC\": [0.5, 0.4], \"AL\": [0.5, 0.48], \"AM\": [0.265, 0.4654], \"AP\": [0.5, 0.455], \"BA\": [0.5546, 0.4], \"CE\": [0.5, 0.466], \"DF\": [0.65445415, 0.4], \"ES\": [0.76485, 0.4644], \"GO\": [0.115, 0.114], \"MA\": [0.885, 0.4], \"MG\": [0.5, 0.4], \"MS\": [0.588, 0.4], \"MT\": [0.5, 0.4], \"PA\": [0.5, 0.4], \"PB\": [0.5, 0.4], \"PE\": [0.5, 0.4], \"PI\": [0.5, 0.4], \"PR\": [0.5, 0.4], \"RJ\": [0.5, 0.4], \"RN\": [0.5, 0.4], \"RO\": [0.5, 0.4], \"RR\": [0.5, 0.4], \"RS\": [0.5, 0.4], \"SC\": [0.5, 0.4], \"SE\": [0.5, 0.4], \"SP\": [0.5, 0.4], \"TO\": [0.5, 0.4]}'\n",
    "#with open('path_to_file/person.json', 'r') as f:\n",
    "#  toxicities = json.load(f)\n",
    "\n",
    "toxicities_dict = json.loads(toxicities)\n",
    "\n",
    "toxicities_average = {}"
   ]
  },
  {
   "cell_type": "code",
   "execution_count": 21,
   "id": "1720ed7b",
   "metadata": {
    "scrolled": true
   },
   "outputs": [
    {
     "name": "stdout",
     "output_type": "stream",
     "text": [
      "[0.5, 0.4]\n",
      "[0.5, 0.48]\n",
      "[0.265, 0.4654]\n",
      "[0.5, 0.455]\n",
      "[0.5546, 0.4]\n",
      "[0.5, 0.466]\n",
      "[0.65445415, 0.4]\n",
      "[0.76485, 0.4644]\n",
      "[0.115, 0.114]\n",
      "[0.885, 0.4]\n",
      "[0.5, 0.4]\n",
      "[0.588, 0.4]\n",
      "[0.5, 0.4]\n",
      "[0.5, 0.4]\n",
      "[0.5, 0.4]\n",
      "[0.5, 0.4]\n",
      "[0.5, 0.4]\n",
      "[0.5, 0.4]\n",
      "[0.5, 0.4]\n",
      "[0.5, 0.4]\n",
      "[0.5, 0.4]\n",
      "[0.5, 0.4]\n",
      "[0.5, 0.4]\n",
      "[0.5, 0.4]\n",
      "[0.5, 0.4]\n",
      "[0.5, 0.4]\n",
      "[0.5, 0.4]\n"
     ]
    }
   ],
   "source": [
    "for state in toxicities_dict:\n",
    "    print(toxicities_dict[state]) "
   ]
  },
  {
   "cell_type": "code",
   "execution_count": 22,
   "id": "54a6e31b",
   "metadata": {},
   "outputs": [],
   "source": [
    "for state in toxicities_dict:\n",
    "    toxicities_average[state] = sum(toxicities_dict[state]) / len(toxicities_dict[state])"
   ]
  },
  {
   "cell_type": "code",
   "execution_count": 23,
   "id": "82d4261c",
   "metadata": {
    "scrolled": true
   },
   "outputs": [
    {
     "name": "stdout",
     "output_type": "stream",
     "text": [
      "{'AC': 0.45, 'AL': 0.49, 'AM': 0.36519999999999997, 'AP': 0.47750000000000004, 'BA': 0.4773, 'CE': 0.483, 'DF': 0.527227075, 'ES': 0.614625, 'GO': 0.1145, 'MA': 0.6425000000000001, 'MG': 0.45, 'MS': 0.494, 'MT': 0.45, 'PA': 0.45, 'PB': 0.45, 'PE': 0.45, 'PI': 0.45, 'PR': 0.45, 'RJ': 0.45, 'RN': 0.45, 'RO': 0.45, 'RR': 0.45, 'RS': 0.45, 'SC': 0.45, 'SE': 0.45, 'SP': 0.45, 'TO': 0.45}\n"
     ]
    }
   ],
   "source": [
    "print(toxicities_average)"
   ]
  },
  {
   "cell_type": "markdown",
   "id": "3b286f78",
   "metadata": {},
   "source": [
    "# Abstention data per state"
   ]
  },
  {
   "cell_type": "code",
   "execution_count": 24,
   "id": "099b9521",
   "metadata": {},
   "outputs": [
    {
     "name": "stdout",
     "output_type": "stream",
     "text": [
      "{'AC': 0.224197147, 'AL': 0.223740742, 'AM': 0.201183043, 'AP': 0.19502367, 'BA': 0.213323741, 'CE': 0.174492312, 'DF': 0.175668223, 'ES': 0.207576503, 'GO': 0.217173741, 'MA': 0.2219005, 'MG': 0.222752376, 'MS': 0.22077375, 'MT': 0.233762747, 'PA': 0.212122134, 'PB': 0.172911591, 'PE': 0.182002873, 'PI': 0.176788108, 'PR': 0.194846355, 'RJ': 0.227417766, 'RN': 0.18153838, 'RO': 0.24638603, 'RR': 0.16704893, 'RS': 0.197787645, 'SC': 0.184503479, 'SE': 0.18344169, 'SP': 0.216184341, 'TO': 0.185369693}\n"
     ]
    }
   ],
   "source": [
    "data = csv.reader(open('data_elections/quantitativo_comp_abst-uf_2022_1.csv', newline=''), delimiter=',', quotechar='|')\n",
    "dataarr = []\n",
    "datadict = {}\n",
    "skip = True\n",
    "for row in data:\n",
    "    if skip:\n",
    "        skip = False\n",
    "        continue\n",
    "    datadict[row[3]] = float(row[8])\n",
    "    dataarr.append([row[3], float(row[8]), int(row[6])])\n",
    "    #State, Percentage abstention, Quantity abstention\n",
    "del datadict[\"ZZ\"]\n",
    "print(datadict)"
   ]
  },
  {
   "cell_type": "markdown",
   "id": "672555f2",
   "metadata": {},
   "source": [
    "# Calculation of correlation"
   ]
  },
  {
   "cell_type": "code",
   "execution_count": 27,
   "id": "d409afa6",
   "metadata": {},
   "outputs": [
    {
     "data": {
      "text/plain": [
       "-0.029246754659356132"
      ]
     },
     "execution_count": 27,
     "metadata": {},
     "output_type": "execute_result"
    }
   ],
   "source": [
    "var1 = []\n",
    "var2 = []\n",
    "\n",
    "for state in toxicities_average:\n",
    "    var1.append(toxicities_average[state])\n",
    "    \n",
    "for state in datadict:\n",
    "    var2.append(datadict[state])\n",
    "\n",
    "#calculate the correlation between the two arrays\n",
    "np.corrcoef(var1, var2)[0,1]"
   ]
  },
  {
   "cell_type": "code",
   "execution_count": null,
   "id": "88fc38f4",
   "metadata": {},
   "outputs": [],
   "source": []
  }
 ],
 "metadata": {
  "kernelspec": {
   "display_name": "Python 3 (ipykernel)",
   "language": "python",
   "name": "python3"
  },
  "language_info": {
   "codemirror_mode": {
    "name": "ipython",
    "version": 3
   },
   "file_extension": ".py",
   "mimetype": "text/x-python",
   "name": "python",
   "nbconvert_exporter": "python",
   "pygments_lexer": "ipython3",
   "version": "3.9.15"
  }
 },
 "nbformat": 4,
 "nbformat_minor": 5
}
